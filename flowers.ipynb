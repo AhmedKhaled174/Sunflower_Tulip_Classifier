{
  "cells": [
    {
      "cell_type": "code",
      "execution_count": null,
      "metadata": {
        "id": "UvmTshlVHhox"
      },
      "outputs": [],
      "source": [
        "import os\n",
        "\n",
        "# Set the path to the directory where we want to create the subdirectories\n",
        "dir_path = \"/tmp/images\"\n",
        "\n",
        "# Create the subdirectories\n",
        "os.makedirs(os.path.join(dir_path, \"sunflowers\"))\n",
        "os.makedirs(os.path.join(dir_path, \"tulips\"))"
      ]
    },
    {
      "cell_type": "code",
      "source": [
        "pip install bing-image-downloader"
      ],
      "metadata": {
        "colab": {
          "base_uri": "https://localhost:8080/"
        },
        "id": "9zxKk0wDY1K8",
        "outputId": "7278659f-fd6a-4337-8996-5ffff1168610"
      },
      "execution_count": null,
      "outputs": [
        {
          "output_type": "stream",
          "name": "stdout",
          "text": [
            "Looking in indexes: https://pypi.org/simple, https://us-python.pkg.dev/colab-wheels/public/simple/\n",
            "Collecting bing-image-downloader\n",
            "  Downloading bing_image_downloader-1.1.2-py3-none-any.whl (5.9 kB)\n",
            "Installing collected packages: bing-image-downloader\n",
            "Successfully installed bing-image-downloader-1.1.2\n"
          ]
        }
      ]
    },
    {
      "cell_type": "code",
      "source": [
        "from bing_image_downloader import downloader\n",
        "\n",
        "# Set the directory paths for the subdirectories\n",
        "parent_dir = \"/tmp/images\"\n",
        "sunflowers_dir = os.path.join(parent_dir, \"sunflowers\")\n",
        "tulips_dir = os.path.join(parent_dir, \"tulips\")\n",
        "\n",
        "# Define the search terms for sunflowers and tulips photos\n",
        "sunflowers_query = \"sunflowers\"\n",
        "tulips_query = \"tulips\"\n",
        "\n",
        "# Download 50 sunflowers photos and save them to the sunflowers directory\n",
        "downloader.download(sunflowers_query, limit=100, output_dir=sunflowers_dir, adult_filter_off=True, force_replace=False)\n",
        "\n",
        "# Download 50 tulips photos and save them to the tulips directory\n",
        "downloader.download(tulips_query, limit=100, output_dir=tulips_dir, adult_filter_off=True, force_replace=False)"
      ],
      "metadata": {
        "id": "3fPyg9VmYaqk"
      },
      "execution_count": null,
      "outputs": []
    },
    {
      "cell_type": "code",
      "source": [
        "# Set the path to the parent directory where we want to create the subdirectories\n",
        "parent_dir = \"/tmp\"\n",
        "\n",
        "# Create the subdirectories\n",
        "os.makedirs(os.path.join(parent_dir, \"training\"))\n",
        "os.makedirs(os.path.join(parent_dir, \"validation\"))"
      ],
      "metadata": {
        "id": "-l1JeDB9d_vD"
      },
      "execution_count": null,
      "outputs": []
    },
    {
      "cell_type": "code",
      "source": [
        "import os\n",
        "import random\n",
        "import shutil\n",
        "\n",
        "# Set the paths to the input and output directories\n",
        "input_dir_sunflowers = \"/tmp/images/sunflowers/sunflowers\"\n",
        "input_dir_tulips = \"/tmp/images/tulips/tulips\"\n",
        "output_dir_training = \"/tmp/training\"\n",
        "output_dir_validation = \"/tmp/validation\"\n",
        "\n",
        "# Set the split ratio\n",
        "split_ratio = 0.8\n",
        "\n",
        "# Create the output directories\n",
        "os.makedirs(os.path.join(output_dir_training, \"sunflowers\"))\n",
        "os.makedirs(os.path.join(output_dir_training, \"tulips\"))\n",
        "os.makedirs(os.path.join(output_dir_validation, \"sunflowers\"))\n",
        "os.makedirs(os.path.join(output_dir_validation, \"tulips\"))\n",
        "\n",
        "# Split the sunflowers photos into the training and validation directories\n",
        "sunflowers_files = os.listdir(input_dir_sunflowers)\n",
        "num_sunflowers = len(sunflowers_files)\n",
        "num_sunflowers_train = int(num_sunflowers * split_ratio)\n",
        "num_sunflowers_val = num_sunflowers - num_sunflowers_train\n",
        "random.shuffle(sunflowers_files)\n",
        "for i in range(num_sunflowers_train):\n",
        "    src_path = os.path.join(input_dir_sunflowers, sunflowers_files[i])\n",
        "    dst_path = os.path.join(output_dir_training, \"sunflowers\", sunflowers_files[i])\n",
        "    shutil.copy(src_path, dst_path)\n",
        "for i in range(num_sunflowers_train, num_sunflowers):\n",
        "    src_path = os.path.join(input_dir_sunflowers, sunflowers_files[i])\n",
        "    dst_path = os.path.join(output_dir_validation, \"sunflowers\", sunflowers_files[i])\n",
        "    shutil.copy(src_path, dst_path)\n",
        "\n",
        "# Split the tulips photos into the training and validation directories\n",
        "tulips_files = os.listdir(input_dir_tulips)\n",
        "num_tulips = len(tulips_files)\n",
        "num_tulips_train = int(num_tulips * split_ratio)\n",
        "num_tulips_val = num_tulips - num_tulips_train\n",
        "random.shuffle(tulips_files)\n",
        "for i in range(num_tulips_train):\n",
        "    src_path = os.path.join(input_dir_tulips, tulips_files[i])\n",
        "    dst_path = os.path.join(output_dir_training, \"tulips\", tulips_files[i])\n",
        "    shutil.copy(src_path, dst_path)\n",
        "for i in range(num_tulips_train, num_tulips):\n",
        "    src_path = os.path.join(input_dir_tulips, tulips_files[i])\n",
        "    dst_path = os.path.join(output_dir_validation, \"tulips\", tulips_files[i])\n",
        "    shutil.copy(src_path, dst_path)"
      ],
      "metadata": {
        "id": "sRFn_z9bfmpJ"
      },
      "execution_count": null,
      "outputs": []
    },
    {
      "cell_type": "code",
      "source": [
        "import numpy as np\n",
        "from shutil import copyfile\n",
        "import tensorflow as tf\n",
        "from tensorflow.keras.preprocessing.image import ImageDataGenerator"
      ],
      "metadata": {
        "id": "amz-POksKOn2"
      },
      "execution_count": null,
      "outputs": []
    },
    {
      "cell_type": "code",
      "source": [
        "train_dir = '/tmp/training'\n",
        "val_dir = '/tmp/validation'\n",
        "\n",
        "\n",
        "train_datagen = ImageDataGenerator(rescale= 1./255,\n",
        "                                   rotation_range=40,\n",
        "                                   width_shift_range=0.2,\n",
        "                                   height_shift_range=0.2,\n",
        "                                   shear_range=0.2,\n",
        "                                   zoom_range=0.2,\n",
        "                                  fill_mode='nearest')\n",
        "\n",
        "train_generator = train_datagen.flow_from_directory(\n",
        "        train_dir,\n",
        "        target_size=(150, 150),\n",
        "        batch_size=32,\n",
        "        class_mode='categorical')\n",
        "\n",
        "val_datagen = ImageDataGenerator(rescale= 1./255)\n",
        "\n",
        "val_generator = val_datagen.flow_from_directory(\n",
        "        val_dir,\n",
        "        target_size=(150, 150),\n",
        "        batch_size=32,\n",
        "        class_mode='categorical')\n"
      ],
      "metadata": {
        "colab": {
          "base_uri": "https://localhost:8080/"
        },
        "id": "FGKYOAAwY4ls",
        "outputId": "2ee9837d-c7be-40cc-8964-129cbf236251"
      },
      "execution_count": null,
      "outputs": [
        {
          "output_type": "stream",
          "name": "stdout",
          "text": [
            "Found 159 images belonging to 2 classes.\n",
            "Found 40 images belonging to 2 classes.\n"
          ]
        }
      ]
    },
    {
      "cell_type": "code",
      "source": [
        "model = tf.keras.models.Sequential([\n",
        "    tf.keras.layers.Conv2D(16, (3,3), activation='relu', input_shape=(150, 150, 3)),\n",
        "    tf.keras.layers.MaxPooling2D(2,2),\n",
        "\n",
        "    tf.keras.layers.Conv2D(32, (3,3), activation='relu'),\n",
        "    tf.keras.layers.MaxPooling2D(2,2), \n",
        "\n",
        "    #tf.keras.layers.Conv2D(64, (3,3), activation='relu'), \n",
        "    #tf.keras.layers.MaxPooling2D(2,2),\n",
        "\n",
        "     tf.keras.layers.Conv2D(64, (3,3), activation='relu'), \n",
        "    tf.keras.layers.MaxPooling2D(2,2),\n",
        "\n",
        "    # Flatten the results to feed into a DNN\n",
        "    tf.keras.layers.Flatten(),\n",
        "    tf.keras.layers.Dropout(0.2), \n",
        "    \n",
        "    tf.keras.layers.Dense(1024, activation='relu'), \n",
        "\n",
        "    tf.keras.layers.Dense(2, activation='softmax')  \n",
        "])\n",
        "\n",
        "model.compile(optimizer = 'adam',\n",
        "              loss = tf.keras.losses.categorical_crossentropy,\n",
        "              metrics = ['accuracy'])\n",
        "\n",
        "history= model.fit(\n",
        "            train_generator,\n",
        "            epochs=15,\n",
        "            validation_data=val_generator,\n",
        "            verbose=2\n",
        "            )"
      ],
      "metadata": {
        "colab": {
          "base_uri": "https://localhost:8080/"
        },
        "id": "h-QZ8OBCa4Gs",
        "outputId": "8fbb45bc-cb62-4891-cd5b-c5d6df24e396"
      },
      "execution_count": null,
      "outputs": [
        {
          "output_type": "stream",
          "name": "stdout",
          "text": [
            "Epoch 1/15\n",
            "5/5 - 14s - loss: 2.1585 - accuracy: 0.3962 - val_loss: 0.5163 - val_accuracy: 0.9250 - 14s/epoch - 3s/step\n",
            "Epoch 2/15\n",
            "5/5 - 9s - loss: 0.5048 - accuracy: 0.7925 - val_loss: 0.3766 - val_accuracy: 0.9250 - 9s/epoch - 2s/step\n",
            "Epoch 3/15\n",
            "5/5 - 8s - loss: 0.3737 - accuracy: 0.8553 - val_loss: 0.2879 - val_accuracy: 0.9000 - 8s/epoch - 2s/step\n",
            "Epoch 4/15\n",
            "5/5 - 9s - loss: 0.3282 - accuracy: 0.8679 - val_loss: 0.2583 - val_accuracy: 0.9000 - 9s/epoch - 2s/step\n",
            "Epoch 5/15\n",
            "5/5 - 10s - loss: 0.2988 - accuracy: 0.8931 - val_loss: 0.2208 - val_accuracy: 0.9250 - 10s/epoch - 2s/step\n",
            "Epoch 6/15\n",
            "5/5 - 10s - loss: 0.2704 - accuracy: 0.8994 - val_loss: 0.2074 - val_accuracy: 0.9250 - 10s/epoch - 2s/step\n",
            "Epoch 7/15\n",
            "5/5 - 8s - loss: 0.2259 - accuracy: 0.9434 - val_loss: 0.2223 - val_accuracy: 0.9000 - 8s/epoch - 2s/step\n",
            "Epoch 8/15\n",
            "5/5 - 9s - loss: 0.2476 - accuracy: 0.9119 - val_loss: 0.2024 - val_accuracy: 0.9250 - 9s/epoch - 2s/step\n",
            "Epoch 9/15\n",
            "5/5 - 9s - loss: 0.2265 - accuracy: 0.9497 - val_loss: 0.1842 - val_accuracy: 0.9250 - 9s/epoch - 2s/step\n",
            "Epoch 10/15\n",
            "5/5 - 8s - loss: 0.2215 - accuracy: 0.9497 - val_loss: 0.1811 - val_accuracy: 0.9500 - 8s/epoch - 2s/step\n",
            "Epoch 11/15\n",
            "5/5 - 9s - loss: 0.1865 - accuracy: 0.9497 - val_loss: 0.1775 - val_accuracy: 0.9500 - 9s/epoch - 2s/step\n",
            "Epoch 12/15\n",
            "5/5 - 11s - loss: 0.1817 - accuracy: 0.9434 - val_loss: 0.1620 - val_accuracy: 0.9500 - 11s/epoch - 2s/step\n",
            "Epoch 13/15\n",
            "5/5 - 9s - loss: 0.1873 - accuracy: 0.9434 - val_loss: 0.1807 - val_accuracy: 0.9500 - 9s/epoch - 2s/step\n",
            "Epoch 14/15\n",
            "5/5 - 8s - loss: 0.1765 - accuracy: 0.9371 - val_loss: 0.1477 - val_accuracy: 0.9500 - 8s/epoch - 2s/step\n",
            "Epoch 15/15\n",
            "5/5 - 9s - loss: 0.1676 - accuracy: 0.9623 - val_loss: 0.1318 - val_accuracy: 0.9500 - 9s/epoch - 2s/step\n"
          ]
        }
      ]
    },
    {
      "cell_type": "code",
      "source": [
        "import matplotlib.pyplot as plt\n",
        "\n",
        "acc      = history.history[     'accuracy' ]\n",
        "val_acc  = history.history[ 'val_accuracy' ]\n",
        "loss     = history.history[    'loss' ]\n",
        "val_loss = history.history['val_loss' ]\n",
        "\n",
        "epochs   = range(len(acc)) # Get number of epochs\n",
        "\n",
        "#------------------------------------------------\n",
        "# Plot training and validation accuracy per epoch\n",
        "#------------------------------------------------\n",
        "plt.plot  ( epochs,     acc ,color = 'b')\n",
        "plt.plot  ( epochs, val_acc,color = 'r' )\n",
        "plt.title ('Training and validation accuracy')\n",
        "plt.figure()\n",
        "\n",
        "#------------------------------------------------\n",
        "# Plot training and validation loss per epoch\n",
        "#------------------------------------------------\n",
        "plt.plot  ( epochs,     loss,color = 'b' )\n",
        "plt.plot  ( epochs, val_loss ,color = 'r')\n",
        "plt.title ('Training and validation loss'   )"
      ],
      "metadata": {
        "colab": {
          "base_uri": "https://localhost:8080/",
          "height": 904
        },
        "id": "xbql1WTqfe0d",
        "outputId": "588a0722-a1f9-4fc7-ab15-3d1b48eb49ff"
      },
      "execution_count": null,
      "outputs": [
        {
          "output_type": "execute_result",
          "data": {
            "text/plain": [
              "Text(0.5, 1.0, 'Training and validation loss')"
            ]
          },
          "metadata": {},
          "execution_count": 11
        },
        {
          "output_type": "display_data",
          "data": {
            "text/plain": [
              "<Figure size 640x480 with 1 Axes>"
            ],
            "image/png": "[encoded data removed]"
          },
          "metadata": {}
        },
        {
          "output_type": "display_data",
          "data": {
            "text/plain": [
              "<Figure size 640x480 with 1 Axes>"
            ],
            "image/png": "[encoded data removed]"
          },
          "metadata": {}
        }
      ]
    },
    {
      "cell_type": "code",
      "source": [
        "import tensorflow as tf\n",
        "import numpy as np\n",
        "from google.colab import files\n",
        "from tensorflow.keras.preprocessing import image\n",
        "\n",
        "# Define the class labels\n",
        "class_labels = ['sunflower', 'tulip']\n",
        "\n",
        "# Upload the image to Google Colab\n",
        "uploaded = files.upload()\n",
        "\n",
        "# Get the file name of the uploaded image\n",
        "for fn in uploaded.keys():\n",
        "  # Load the image file\n",
        "  img = image.load_img(fn, target_size=(150, 150))\n",
        "  # Convert the image to a numpy array\n",
        "  img_array = image.img_to_array(img)\n",
        "  # Reshape the array to match the input shape of the model\n",
        "  img_array = np.expand_dims(img_array, axis=0)\n",
        "\n",
        "  # Normalize the image data\n",
        "  img_array /= 255.0\n",
        "\n",
        "  # Make a prediction using the pre-trained model\n",
        "  predictions = model.predict(img_array)\n",
        "\n",
        "  # Get the predicted class label\n",
        "  predicted_class = class_labels[np.argmax(predictions)]\n",
        "\n",
        "  # Print the predicted class label\n",
        "  print('The uploaded image is a', predicted_class)"
      ],
      "metadata": {
        "colab": {
          "base_uri": "https://localhost:8080/",
          "height": 128
        },
        "id": "tuJ-3uepgDnN",
        "outputId": "0f1b1f12-0992-4fc2-c5a2-4572e7e9c6ee"
      },
      "execution_count": null,
      "outputs": [
        {
          "output_type": "display_data",
          "data": {
            "text/plain": [
              "<IPython.core.display.HTML object>"
            ],
            "text/html": [
              "\n",
              "     <input type=\"file\" id=\"files-73f18f2f-c151-43e0-9d73-2c962bd54260\" name=\"files[]\" multiple disabled\n",
              "        style=\"border:none\" />\n",
              "     <output id=\"result-73f18f2f-c151-43e0-9d73-2c962bd54260\">\n",
              "      Upload widget is only available when the cell has been executed in the\n",
              "      current browser session. Please rerun this cell to enable.\n",
              "      </output>\n",
              "      <script>// Copyright 2017 Google LLC\n",
              "//\n",
              "// Licensed under the Apache License, Version 2.0 (the \"License\");\n",
              "// you may not use this file except in compliance with the License.\n",
              "// You may obtain a copy of the License at\n",
              "//\n",
              "//      http://www.apache.org/licenses/LICENSE-2.0\n",
              "//\n",
              "// Unless required by applicable law or agreed to in writing, software\n",
              "// distributed under the License is distributed on an \"AS IS\" BASIS,\n",
              "// WITHOUT WARRANTIES OR CONDITIONS OF ANY KIND, either express or implied.\n",
              "// See the License for the specific language governing permissions and\n",
              "// limitations under the License.\n",
              "\n",
              "/**\n",
              " * @fileoverview Helpers for google.colab Python module.\n",
              " */\n",
              "(function(scope) {\n",
              "function span(text, styleAttributes = {}) {\n",
              "  const element = document.createElement('span');\n",
              "  element.textContent = text;\n",
              "  for (const key of Object.keys(styleAttributes)) {\n",
              "    element.style[key] = styleAttributes[key];\n",
              "  }\n",
              "  return element;\n",
              "}\n",
              "\n",
              "// Max number of bytes which will be uploaded at a time.\n",
              "const MAX_PAYLOAD_SIZE = 100 * 1024;\n",
              "\n",
              "function _uploadFiles(inputId, outputId) {\n",
              "  const steps = uploadFilesStep(inputId, outputId);\n",
              "  const outputElement = document.getElementById(outputId);\n",
              "  // Cache steps on the outputElement to make it available for the next call\n",
              "  // to uploadFilesContinue from Python.\n",
              "  outputElement.steps = steps;\n",
              "\n",
              "  return _uploadFilesContinue(outputId);\n",
              "}\n",
              "\n",
              "// This is roughly an async generator (not supported in the browser yet),\n",
              "// where there are multiple asynchronous steps and the Python side is going\n",
              "// to poll for completion of each step.\n",
              "// This uses a Promise to block the python side on completion of each step,\n",
              "// then passes the result of the previous step as the input to the next step.\n",
              "function _uploadFilesContinue(outputId) {\n",
              "  const outputElement = document.getElementById(outputId);\n",
              "  const steps = outputElement.steps;\n",
              "\n",
              "  const next = steps.next(outputElement.lastPromiseValue);\n",
              "  return Promise.resolve(next.value.promise).then((value) => {\n",
              "    // Cache the last promise value to make it available to the next\n",
              "    // step of the generator.\n",
              "    outputElement.lastPromiseValue = value;\n",
              "    return next.value.response;\n",
              "  });\n",
              "}\n",
              "\n",
              "/**\n",
              " * Generator function which is called between each async step of the upload\n",
              " * process.\n",
              " * @param {string} inputId Element ID of the input file picker element.\n",
              " * @param {string} outputId Element ID of the output display.\n",
              " * @return {!Iterable<!Object>} Iterable of next steps.\n",
              " */\n",
              "function* uploadFilesStep(inputId, outputId) {\n",
              "  const inputElement = document.getElementById(inputId);\n",
              "  inputElement.disabled = false;\n",
              "\n",
              "  const outputElement = document.getElementById(outputId);\n",
              "  outputElement.innerHTML = '';\n",
              "\n",
              "  const pickedPromise = new Promise((resolve) => {\n",
              "    inputElement.addEventListener('change', (e) => {\n",
              "      resolve(e.target.files);\n",
              "    });\n",
              "  });\n",
              "\n",
              "  const cancel = document.createElement('button');\n",
              "  inputElement.parentElement.appendChild(cancel);\n",
              "  cancel.textContent = 'Cancel upload';\n",
              "  const cancelPromise = new Promise((resolve) => {\n",
              "    cancel.onclick = () => {\n",
              "      resolve(null);\n",
              "    };\n",
              "  });\n",
              "\n",
              "  // Wait for the user to pick the files.\n",
              "  const files = yield {\n",
              "    promise: Promise.race([pickedPromise, cancelPromise]),\n",
              "    response: {\n",
              "      action: 'starting',\n",
              "    }\n",
              "  };\n",
              "\n",
              "  cancel.remove();\n",
              "\n",
              "  // Disable the input element since further picks are not allowed.\n",
              "  inputElement.disabled = true;\n",
              "\n",
              "  if (!files) {\n",
              "    return {\n",
              "      response: {\n",
              "        action: 'complete',\n",
              "      }\n",
              "    };\n",
              "  }\n",
              "\n",
              "  for (const file of files) {\n",
              "    const li = document.createElement('li');\n",
              "    li.append(span(file.name, {fontWeight: 'bold'}));\n",
              "    li.append(span(\n",
              "        `(${file.type || 'n/a'}) - ${file.size} bytes, ` +\n",
              "        `last modified: ${\n",
              "            file.lastModifiedDate ? file.lastModifiedDate.toLocaleDateString() :\n",
              "                                    'n/a'} - `));\n",
              "    const percent = span('0% done');\n",
              "    li.appendChild(percent);\n",
              "\n",
              "    outputElement.appendChild(li);\n",
              "\n",
              "    const fileDataPromise = new Promise((resolve) => {\n",
              "      const reader = new FileReader();\n",
              "      reader.onload = (e) => {\n",
              "        resolve(e.target.result);\n",
              "      };\n",
              "      reader.readAsArrayBuffer(file);\n",
              "    });\n",
              "    // Wait for the data to be ready.\n",
              "    let fileData = yield {\n",
              "      promise: fileDataPromise,\n",
              "      response: {\n",
              "        action: 'continue',\n",
              "      }\n",
              "    };\n",
              "\n",
              "    // Use a chunked sending to avoid message size limits. See b/62115660.\n",
              "    let position = 0;\n",
              "    do {\n",
              "      const length = Math.min(fileData.byteLength - position, MAX_PAYLOAD_SIZE);\n",
              "      const chunk = new Uint8Array(fileData, position, length);\n",
              "      position += length;\n",
              "\n",
              "      const base64 = btoa(String.fromCharCode.apply(null, chunk));\n",
              "      yield {\n",
              "        response: {\n",
              "          action: 'append',\n",
              "          file: file.name,\n",
              "          data: base64,\n",
              "        },\n",
              "      };\n",
              "\n",
              "      let percentDone = fileData.byteLength === 0 ?\n",
              "          100 :\n",
              "          Math.round((position / fileData.byteLength) * 100);\n",
              "      percent.textContent = `${percentDone}% done`;\n",
              "\n",
              "    } while (position < fileData.byteLength);\n",
              "  }\n",
              "\n",
              "  // All done.\n",
              "  yield {\n",
              "    response: {\n",
              "      action: 'complete',\n",
              "    }\n",
              "  };\n",
              "}\n",
              "\n",
              "scope.google = scope.google || {};\n",
              "scope.google.colab = scope.google.colab || {};\n",
              "scope.google.colab._files = {\n",
              "  _uploadFiles,\n",
              "  _uploadFilesContinue,\n",
              "};\n",
              "})(self);\n",
              "</script> "
            ]
          },
          "metadata": {}
        },
        {
          "output_type": "stream",
          "name": "stdout",
          "text": [
            "Saving tulips-planting-and-growing-tulips-1402137-06-5c18a69c82114b16bc8eb3baf69935e3.jpg to tulips-planting-and-growing-tulips-1402137-06-5c18a69c82114b16bc8eb3baf69935e3 (2).jpg\n",
            "1/1 [==============================] - 0s 185ms/step\n",
            "The uploaded image is a tulip\n"
          ]
        }
      ]
    }
  ],
  "metadata": {
    "accelerator": "GPU",
    "colab": {
      "provenance": []
    },
    "kernelspec": {
      "display_name": "Python 3",
      "name": "python3"
    },
    "language_info": {
      "name": "python"
    },
    "gpuClass": "standard"
  },
  "nbformat": 4,
  "nbformat_minor": 0
}